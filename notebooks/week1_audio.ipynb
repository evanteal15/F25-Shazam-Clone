{
 "cells": [
  {
   "cell_type": "markdown",
   "id": "4a92e900",
   "metadata": {},
   "source": [
    "<a href=\"https://colab.research.google.com/github/MichiganDataScienceTeam/F25-Shazam/blob/main/notebooks/week1_audio.ipynb\" target=\"_parent\"><img src=\"https://colab.research.google.com/assets/colab-badge.svg\" alt=\"Open In Colab\"/></a>"
   ]
  },
  {
   "cell_type": "code",
   "execution_count": null,
   "id": "574769f8",
   "metadata": {},
   "outputs": [],
   "source": [
    "%pip install numpy matplotlib librosa scipy yt-dlp"
   ]
  },
  {
   "cell_type": "code",
   "execution_count": null,
   "id": "48bd4cb2",
   "metadata": {},
   "outputs": [],
   "source": [
    "import numpy as np\n",
    "import matplotlib.pyplot as plt\n",
    "import librosa"
   ]
  },
  {
   "cell_type": "markdown",
   "id": "f62b010c",
   "metadata": {},
   "source": [
    "## Terminology\n",
    "\n",
    "Explain Frequency, discretization of audio:\n",
    "\n",
    "1 Hertz = 1 vibration / second \n",
    "\n",
    "vibration of air particles\n",
    "\n",
    "bit depth: number of bits used to store each sample\n",
    "\n",
    "sample rate: number of samples per second (Hz)\n",
    "\n",
    "time is digitized using the sample rate, amplitude is digitized using bit depth\n",
    "\n",
    "$\\mathrm{bit rate} = \\mathrm{sr}\\times\\mathrm{bit depth}\\times\\textrm{number of channels}$\n",
    "\n",
    "mp3 files are measured in bit rate since they do not store the associated bit depths\n",
    "\n",
    "The sampling interval is defined as the reciprocal of the sampling rate, and it represents the time duration between two consecutive samples in a discrete time signal. If the sampling rate is 44100 times per second, then the sampling interval is 1/44100.\n",
    "\n",
    "\n",
    "try different values of `sample_rate` and `freq_Hz`"
   ]
  },
  {
   "cell_type": "code",
   "execution_count": null,
   "id": "470ce5c1",
   "metadata": {},
   "outputs": [],
   "source": [
    "# frequency of the audio signal\n",
    "freq_Hz = 5\n",
    "\n",
    "# rate at which audio is being sampled\n",
    "sample_rate_Hz = 10\n",
    "\n",
    "x_continuous = np.linspace(0, 1, 1000, endpoint=False)\n",
    "y_continuous = np.cos(freq_Hz * 2*np.pi*x_continuous)\n",
    "\n",
    "x_discrete = np.linspace(0, 1, sample_rate_Hz, endpoint=False)\n",
    "y_discrete = np.cos(freq_Hz * 2*np.pi*x_discrete)\n",
    "\n",
    "plt.plot(x_continuous, y_continuous)\n",
    "plt.scatter(x_discrete, y_discrete, color=\"red\", s=50)\n",
    "plt.xlabel(\"Time (s)\")\n",
    "plt.grid()\n"
   ]
  },
  {
   "cell_type": "markdown",
   "id": "e3f3c2bb",
   "metadata": {},
   "source": [
    "## Good to Know Sampling Theorem:\n",
    "\n",
    "If a signal contains no frequencies higher than $f_\\mathrm{max}$, then the signal can be perfectly reconstructed when sampled at a rate $sr > 2f_\\mathrm{max}$. In other words, the maximum reconstructable frequency is strictly less than $sr/2$. This is called the Nyquist-Shannon sampling theorem.\n",
    "\n",
    "Explain aliasing briefly"
   ]
  },
  {
   "cell_type": "code",
   "execution_count": null,
   "id": "0c7ac3a8",
   "metadata": {},
   "outputs": [],
   "source": [
    "sample_rate_Hz = 2\n",
    "\n",
    "freq_Hz = 5\n",
    "\n",
    "freq_reconstructable_up_to = sample_rate_Hz / 2\n",
    "\n",
    "x_continuous = np.linspace(0, 1, 1000, endpoint=False)\n",
    "y_continuous = np.cos(freq_Hz * 2*np.pi*x_continuous)\n",
    "\n",
    "x_undersampled = np.linspace(0, 1, 1000, endpoint=False)\n",
    "y_undersampled = np.cos(freq_reconstructable_up_to * 2*np.pi*x_undersampled)\n",
    "\n",
    "x_discrete = np.linspace(0, 1, sample_rate_Hz, endpoint=False)\n",
    "y_discrete = np.cos(freq_Hz * 2*np.pi*x_discrete)\n",
    "\n",
    "plt.plot(x_continuous, y_continuous)\n",
    "plt.plot(x_undersampled, y_undersampled, color=\"red\", linestyle=\"--\")\n",
    "plt.scatter(x_discrete, y_discrete, color=\"red\", s=50)\n",
    "plt.xlabel(\"Time (s)\")\n",
    "plt.grid()"
   ]
  },
  {
   "cell_type": "markdown",
   "id": "61deb37b",
   "metadata": {},
   "source": [
    "## Working with Audio Data"
   ]
  },
  {
   "cell_type": "code",
   "execution_count": null,
   "id": "97125266",
   "metadata": {},
   "outputs": [],
   "source": [
    "import yt_dlp\n",
    "\n",
    "# add any youtube video url here, \n",
    "# copied from browser address bar\n",
    "youtube_url = \"\"\n",
    "\n",
    "\n",
    "ydl_opts = {\n",
    "        'format': 'bestaudio/best',\n",
    "        'outtmpl': \"sample_ytdlp.%(ext)s\",  # output file\n",
    "        'postprocessors': [{\n",
    "            'key': 'FFmpegExtractAudio',\n",
    "            'preferredcodec': 'wav',       # save as wav file\n",
    "        }],\n",
    "        #'cookiefile': 'cookies.txt',\n",
    "    }\n",
    "with yt_dlp.YoutubeDL(ydl_opts) as ydl:\n",
    "    ydl.download([youtube_url])\n",
    "\n",
    "audio_path = \"sample_ytdlp.wav\"\n"
   ]
  },
  {
   "cell_type": "code",
   "execution_count": null,
   "id": "9ac27996",
   "metadata": {},
   "outputs": [],
   "source": [
    "#audio_path = \"sample_ytdlp.wav\"\n",
    "audio_path = \"sample.wav\"\n",
    "\n",
    "audio, sr = librosa.load(audio_path, sr=None)  # sr=None uses the file's sampling rate\n",
    "print(f\"sample rate = {sr} Hz\")\n",
    "\n",
    "plt.figure(figsize=(12, 4))\n",
    "plt.plot(audio)\n",
    "plt.title(\"Waveform of Audio\")\n",
    "plt.xlabel(\"Sample Index\")\n",
    "plt.ylabel(\"Amplitude\")\n",
    "plt.show()\n",
    "\n",
    "print(\"audio is digitally represented as a numpy.ndarray:\")\n",
    "audio"
   ]
  },
  {
   "cell_type": "code",
   "execution_count": null,
   "id": "33d5ffbb",
   "metadata": {},
   "outputs": [],
   "source": [
    "# Resampling:\n",
    "# internally, downsampling (reducing the sample rate) uses a low pass filter to remove higher frequency components to avoid aliasing (Sampling Theorem)\n",
    "# then keeps specific samples using a sample step size of (old_sr/new_sr), first upsampling via interpolation if old_sr/new_sr is not an integer\n",
    "sr = 11_025\n",
    "audio, sr = librosa.load(audio_path, sr=sr)\n",
    "\n",
    "# Question: how would you plot just the first 10 seconds of an audio file?\n",
    "\n",
    "plt.figure(figsize=(12, 4))\n",
    "plt.plot(audio, lw=0.3)\n",
    "plt.scatter(np.arange(len(audio)), audio, s=2, color=\"red\")\n",
    "plt.title(\"Resampled Audio Waveform\")\n",
    "plt.xlabel(\"Sample Index\")\n",
    "plt.ylabel(\"Amplitude\")\n",
    "plt.show()\n",
    "audio"
   ]
  }
 ],
 "metadata": {
  "kernelspec": {
   "display_name": "env",
   "language": "python",
   "name": "python3"
  },
  "language_info": {
   "codemirror_mode": {
    "name": "ipython",
    "version": 3
   },
   "file_extension": ".py",
   "mimetype": "text/x-python",
   "name": "python",
   "nbconvert_exporter": "python",
   "pygments_lexer": "ipython3",
   "version": "3.13.7"
  }
 },
 "nbformat": 4,
 "nbformat_minor": 5
}
