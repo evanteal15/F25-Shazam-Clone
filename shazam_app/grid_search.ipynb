{
 "cells": [
  {
   "cell_type": "code",
   "execution_count": 2,
   "id": "eb132212",
   "metadata": {},
   "outputs": [],
   "source": [
    "import numpy as np\n",
    "import pandas as pd"
   ]
  },
  {
   "cell_type": "code",
   "execution_count": null,
   "id": "3ac308d5",
   "metadata": {},
   "outputs": [
    {
     "data": {
      "text/html": [
       "<div>\n",
       "<style scoped>\n",
       "    .dataframe tbody tr th:only-of-type {\n",
       "        vertical-align: middle;\n",
       "    }\n",
       "\n",
       "    .dataframe tbody tr th {\n",
       "        vertical-align: top;\n",
       "    }\n",
       "\n",
       "    .dataframe thead th {\n",
       "        text-align: right;\n",
       "    }\n",
       "</style>\n",
       "<table border=\"1\" class=\"dataframe\">\n",
       "  <thead>\n",
       "    <tr style=\"text-align: right;\">\n",
       "      <th></th>\n",
       "      <th>ground_truth</th>\n",
       "      <th>prediction</th>\n",
       "      <th>correct</th>\n",
       "      <th>metrics</th>\n",
       "      <th>microphone_audio</th>\n",
       "    </tr>\n",
       "  </thead>\n",
       "  <tbody>\n",
       "    <tr>\n",
       "      <th>0</th>\n",
       "      <td>1</td>\n",
       "      <td>1</td>\n",
       "      <td>True</td>\n",
       "      <td>{1: {'std_of_deltaT': 26104.09934392854, 'coun...</td>\n",
       "      <td>[-0.00858134, 0.0061133597, 0.0056532193, -0.0...</td>\n",
       "    </tr>\n",
       "    <tr>\n",
       "      <th>1</th>\n",
       "      <td>1</td>\n",
       "      <td>1</td>\n",
       "      <td>True</td>\n",
       "      <td>{1: {'std_of_deltaT': 16873.219098246398, 'cou...</td>\n",
       "      <td>[0.004619666, -0.00025240716, 0.006678564, -0....</td>\n",
       "    </tr>\n",
       "    <tr>\n",
       "      <th>2</th>\n",
       "      <td>1</td>\n",
       "      <td>1</td>\n",
       "      <td>True</td>\n",
       "      <td>{1: {'std_of_deltaT': 13460.635722350087, 'cou...</td>\n",
       "      <td>[-0.020336598, -0.026521448, -0.013880938, 0.0...</td>\n",
       "    </tr>\n",
       "    <tr>\n",
       "      <th>3</th>\n",
       "      <td>1</td>\n",
       "      <td>1</td>\n",
       "      <td>True</td>\n",
       "      <td>{1: {'std_of_deltaT': 13715.300573750064, 'cou...</td>\n",
       "      <td>[0.004058216, -0.0076125516, 0.0068851206, -0....</td>\n",
       "    </tr>\n",
       "    <tr>\n",
       "      <th>4</th>\n",
       "      <td>1</td>\n",
       "      <td>1</td>\n",
       "      <td>True</td>\n",
       "      <td>{1: {'std_of_deltaT': 29549.99563884655, 'coun...</td>\n",
       "      <td>[0.005670398, 0.0015003644, -0.0003865804, 0.0...</td>\n",
       "    </tr>\n",
       "  </tbody>\n",
       "</table>\n",
       "</div>"
      ],
      "text/plain": [
       "   ground_truth  prediction  correct  \\\n",
       "0             1           1     True   \n",
       "1             1           1     True   \n",
       "2             1           1     True   \n",
       "3             1           1     True   \n",
       "4             1           1     True   \n",
       "\n",
       "                                             metrics  \\\n",
       "0  {1: {'std_of_deltaT': 26104.09934392854, 'coun...   \n",
       "1  {1: {'std_of_deltaT': 16873.219098246398, 'cou...   \n",
       "2  {1: {'std_of_deltaT': 13460.635722350087, 'cou...   \n",
       "3  {1: {'std_of_deltaT': 13715.300573750064, 'cou...   \n",
       "4  {1: {'std_of_deltaT': 29549.99563884655, 'coun...   \n",
       "\n",
       "                                    microphone_audio  \n",
       "0  [-0.00858134, 0.0061133597, 0.0056532193, -0.0...  \n",
       "1  [0.004619666, -0.00025240716, 0.006678564, -0....  \n",
       "2  [-0.020336598, -0.026521448, -0.013880938, 0.0...  \n",
       "3  [0.004058216, -0.0076125516, 0.0068851206, -0....  \n",
       "4  [0.005670398, 0.0015003644, -0.0003865804, 0.0...  "
      ]
     },
     "execution_count": 3,
     "metadata": {},
     "output_type": "execute_result"
    }
   ],
   "source": [
    "df = pd.read_pickle(\"max_results.pkl\")\n",
    "df.head()"
   ]
  },
  {
   "cell_type": "code",
   "execution_count": 6,
   "id": "ce03321b",
   "metadata": {},
   "outputs": [
    {
     "data": {
      "text/html": [
       "<div>\n",
       "<style scoped>\n",
       "    .dataframe tbody tr th:only-of-type {\n",
       "        vertical-align: middle;\n",
       "    }\n",
       "\n",
       "    .dataframe tbody tr th {\n",
       "        vertical-align: top;\n",
       "    }\n",
       "\n",
       "    .dataframe thead th {\n",
       "        text-align: right;\n",
       "    }\n",
       "</style>\n",
       "<table border=\"1\" class=\"dataframe\">\n",
       "  <thead>\n",
       "    <tr style=\"text-align: right;\">\n",
       "      <th></th>\n",
       "      <th>1</th>\n",
       "      <th>3</th>\n",
       "      <th>4</th>\n",
       "    </tr>\n",
       "  </thead>\n",
       "  <tbody>\n",
       "    <tr>\n",
       "      <th>std_of_deltaT</th>\n",
       "      <td>26104.099344</td>\n",
       "      <td>20323.509874</td>\n",
       "      <td>1000</td>\n",
       "    </tr>\n",
       "    <tr>\n",
       "      <th>count_hash_matches</th>\n",
       "      <td>1.000000</td>\n",
       "      <td>1.000000</td>\n",
       "      <td>1</td>\n",
       "    </tr>\n",
       "    <tr>\n",
       "      <th>n_sample_hashes</th>\n",
       "      <td>239.000000</td>\n",
       "      <td>239.000000</td>\n",
       "      <td>239</td>\n",
       "    </tr>\n",
       "    <tr>\n",
       "      <th>histogram_max_height</th>\n",
       "      <td>12.000000</td>\n",
       "      <td>1.000000</td>\n",
       "      <td>1</td>\n",
       "    </tr>\n",
       "  </tbody>\n",
       "</table>\n",
       "</div>"
      ],
      "text/plain": [
       "                                 1             3     4\n",
       "std_of_deltaT         26104.099344  20323.509874  1000\n",
       "count_hash_matches        1.000000      1.000000     1\n",
       "n_sample_hashes         239.000000    239.000000   239\n",
       "histogram_max_height     12.000000      1.000000     1"
      ]
     },
     "execution_count": 6,
     "metadata": {},
     "output_type": "execute_result"
    }
   ],
   "source": [
    "first_metrics = pd.DataFrame(df[\"metrics\"][0])\n",
    "first_metrics.head()"
   ]
  }
 ],
 "metadata": {
  "kernelspec": {
   "display_name": "env",
   "language": "python",
   "name": "python3"
  },
  "language_info": {
   "codemirror_mode": {
    "name": "ipython",
    "version": 3
   },
   "file_extension": ".py",
   "mimetype": "text/x-python",
   "name": "python",
   "nbconvert_exporter": "python",
   "pygments_lexer": "ipython3",
   "version": "3.13.8"
  }
 },
 "nbformat": 4,
 "nbformat_minor": 5
}
